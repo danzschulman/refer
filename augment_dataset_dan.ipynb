{
 "cells": [
  {
   "cell_type": "code",
   "execution_count": 1,
   "metadata": {
    "collapsed": true
   },
   "outputs": [],
   "source": [
    "# Augment the Ref-COCO dataset by flipping all images left-to-right and update\n",
    "# referring expressions accordingly: \"zebra on the left\" --> \"zebra on the right\"\n",
    "import os\n",
    "from tqdm import tqdm\n",
    "\n",
    "import matplotlib.pyplot as plt\n",
    "import numpy as np\n",
    "\n",
    "import json\n",
    "import pickle\n",
    "import copy"
   ]
  },
  {
   "cell_type": "code",
   "execution_count": 2,
   "metadata": {
    "collapsed": true
   },
   "outputs": [],
   "source": [
    "# The path for the Ref-COCO dataset images:\n",
    "images_dir = '/root/refer/data/images/mscoco/images/train2014'"
   ]
  },
  {
   "cell_type": "code",
   "execution_count": 20,
   "metadata": {},
   "outputs": [
    {
     "name": "stderr",
     "output_type": "stream",
     "text": [
      "100%|██████████| 165566/165566 [00:00<00:00, 339720.29it/s]\n"
     ]
    }
   ],
   "source": [
    "# Create a list of all original images (not flipped)\n",
    "# Original image starts with \"COCO_train2014_0\" prefix\n",
    "# Flipped image starts with \"COCO_train2014_1\" prefix\n",
    "image_list = []\n",
    "flipped_image_count = 0\n",
    "\n",
    "for filename in tqdm(os.listdir(images_dir)):\n",
    "    if filename.endswith(\".jpg\"): \n",
    "        image_path = os.path.join(images_dir, filename)\n",
    "        if 'COCO_train2014_0' in image_path:\n",
    "            image_list.append(image_path)\n",
    "        elif 'COCO_train2014_1' in image_path:\n",
    "            flipped_image_count += 1"
   ]
  },
  {
   "cell_type": "code",
   "execution_count": 16,
   "metadata": {},
   "outputs": [
    {
     "name": "stderr",
     "output_type": "stream",
     "text": [
      "100%|██████████| 82783/82783 [4:29:22<00:00,  5.12it/s]  \n"
     ]
    }
   ],
   "source": [
    "# Flip all images left-to-right (keep originals)\n",
    "problematic_image_list = []\n",
    "\n",
    "for image_path in tqdm(image_list):\n",
    "    try:\n",
    "        flipped_image_path = image_path.replace('COCO_train2014_0', 'COCO_train2014_1')\n",
    "\n",
    "        im = plt.imread(image_path)\n",
    "\n",
    "        plt.imsave(flipped_image_path, np.fliplr(im))\n",
    "    except KeyboardInterrupt:\n",
    "        raise\n",
    "    except:\n",
    "        problematic_image_list.append(image_path)"
   ]
  },
  {
   "cell_type": "code",
   "execution_count": 79,
   "metadata": {
    "collapsed": true
   },
   "outputs": [],
   "source": [
    "# Load referring expressions:\n",
    "# \"/root/refer/data/refcoco_original/\" is the original refcoco data path\n",
    "# \"/root/refer/data/refcoco/\" is where the new augmented refcoco data will be saved\n",
    "refs = pickle.load(open('/root/refer/data/refcoco_original/refs(unc).p', 'rb'))"
   ]
  },
  {
   "cell_type": "code",
   "execution_count": 80,
   "metadata": {},
   "outputs": [
    {
     "name": "stderr",
     "output_type": "stream",
     "text": [
      "100%|██████████| 50000/50000 [00:04<00:00, 10231.87it/s]\n"
     ]
    }
   ],
   "source": [
    "# Create flipped referring expressions for the new flipped images:\n",
    "\n",
    "filter_non_left_right_sentences = False # Set to True in order to filter out sentences with no\n",
    "                                        # \"left/right/leftmost/rightmost\" keywords\n",
    "\n",
    "big_const = 100000000000 # Used to not conflict with original id's\n",
    "new_image_ids = []\n",
    "\n",
    "new_refs = []\n",
    "\n",
    "for ref in tqdm(refs):\n",
    "    if ref['split'] != 'train':\n",
    "        continue\n",
    "    new_ref = copy.deepcopy(ref)\n",
    "    new_ref['sent_ids'] = [big_const + sent_id for sent_id in new_ref['sent_ids']]\n",
    "    new_ref['file_name'] = new_ref['file_name'].replace('COCO_train2014_0', 'COCO_train2014_1')\n",
    "    new_ref['ann_id'] = big_const + new_ref['ann_id']\n",
    "    new_ref['ref_id'] = big_const + new_ref['ref_id']\n",
    "    new_ref['image_id'] = big_const + new_ref['image_id']\n",
    "    for sentence in new_ref['sentences']:\n",
    "        tokens = []\n",
    "        for token in sentence['tokens']:\n",
    "            if token == 'right':\n",
    "                tokens.append('left')\n",
    "            elif token == 'left':\n",
    "                tokens.append('right')\n",
    "            elif token == 'rightmost':\n",
    "                tokens.append('leftmost')\n",
    "            elif token == 'leftmost':\n",
    "                tokens.append('rightmost')\n",
    "            else:\n",
    "                tokens.append(token)\n",
    "        sentence['tokens'] = tokens\n",
    "        sentence['raw'] = ' '.join(tokens)\n",
    "        sentence['sent'] = sentence['raw']\n",
    "        sentence['sent_id'] = big_const + sentence['sent_id']\n",
    "    \n",
    "    # Filter out non-{left/right} sentences:\n",
    "    if filter_non_left_right_sentences:\n",
    "        for sentence in new_ref['sentences']:\n",
    "            if 'right' not in sentence['tokens'] and \\\n",
    "               'left' not in sentence['tokens'] and \\\n",
    "               'rightmost' not in sentence['tokens'] and \\\n",
    "               'leftmost' not in sentence['tokens']:\n",
    "                    new_ref['sent_ids'].remove(sentence['sent_id'])\n",
    "        if len(new_ref['sent_ids']) == 0:\n",
    "            continue\n",
    "        new_ref['sentences'] = [sentence for sentence in new_ref['sentences'] if sentence['sent_id'] in new_ref['sent_ids']]\n",
    "    #End - Filter\n",
    "    \n",
    "    new_refs.append(new_ref)\n",
    "    new_image_ids.append(new_ref['image_id'])\n",
    "new_image_ids = set(new_image_ids)"
   ]
  },
  {
   "cell_type": "code",
   "execution_count": 82,
   "metadata": {
    "collapsed": true
   },
   "outputs": [],
   "source": [
    "refs.extend(new_refs)"
   ]
  },
  {
   "cell_type": "code",
   "execution_count": 102,
   "metadata": {},
   "outputs": [
    {
     "data": {
      "text/plain": [
       "26469"
      ]
     },
     "execution_count": 102,
     "metadata": {},
     "output_type": "execute_result"
    }
   ],
   "source": [
    "len(new_refs)"
   ]
  },
  {
   "cell_type": "markdown",
   "metadata": {},
   "source": [
    "# Filter out non left-right sentences in dataset:"
   ]
  },
  {
   "cell_type": "code",
   "execution_count": 85,
   "metadata": {},
   "outputs": [
    {
     "name": "stderr",
     "output_type": "stream",
     "text": [
      "100%|██████████| 76469/76469 [00:07<00:00, 10435.65it/s]\n"
     ]
    }
   ],
   "source": [
    "filtered_image_ids = []\n",
    "\n",
    "filtered_refs = []\n",
    "\n",
    "filtered_ann_ids = []\n",
    "\n",
    "for ref in tqdm(refs):\n",
    "    new_ref = copy.deepcopy(ref)\n",
    "    # Filter out non-{left/right} sentences:\n",
    "    if filter_non_left_right_sentences:\n",
    "        for sentence in new_ref['sentences']:\n",
    "            if 'right' not in sentence['tokens'] and \\\n",
    "               'left' not in sentence['tokens'] and \\\n",
    "               'rightmost' not in sentence['tokens'] and \\\n",
    "               'leftmost' not in sentence['tokens']:\n",
    "                    new_ref['sent_ids'].remove(sentence['sent_id'])\n",
    "        if len(new_ref['sent_ids']) == 0:\n",
    "            continue\n",
    "        new_ref['sentences'] = [sentence for sentence in new_ref['sentences'] if sentence['sent_id'] in new_ref['sent_ids']]\n",
    "    #End - Filter\n",
    "    \n",
    "    filtered_refs.append(new_ref)\n",
    "    filtered_image_ids.append(new_ref['image_id'])\n",
    "    filtered_ann_ids.append(new_ref['ann_id'])\n",
    "filtered_image_ids = set(filtered_image_ids)\n",
    "filtered_ann_ids = set(filtered_ann_ids)"
   ]
  },
  {
   "cell_type": "code",
   "execution_count": 101,
   "metadata": {},
   "outputs": [
    {
     "data": {
      "text/plain": [
       "57730"
      ]
     },
     "execution_count": 101,
     "metadata": {},
     "output_type": "execute_result"
    }
   ],
   "source": [
    "len(filtered_refs)"
   ]
  },
  {
   "cell_type": "code",
   "execution_count": 87,
   "metadata": {
    "collapsed": true
   },
   "outputs": [],
   "source": [
    "# Load annotations:\n",
    "instances = json.load(open('/root/refer/data/refcoco_original/instances.json', 'r'))"
   ]
  },
  {
   "cell_type": "code",
   "execution_count": 88,
   "metadata": {},
   "outputs": [
    {
     "data": {
      "text/plain": [
       "dict_keys(['info', 'images', 'licenses', 'annotations', 'categories'])"
      ]
     },
     "execution_count": 88,
     "metadata": {},
     "output_type": "execute_result"
    }
   ],
   "source": [
    "instances.keys()"
   ]
  },
  {
   "cell_type": "code",
   "execution_count": 89,
   "metadata": {
    "collapsed": true
   },
   "outputs": [],
   "source": [
    "#instances['annotations']"
   ]
  },
  {
   "cell_type": "code",
   "execution_count": 90,
   "metadata": {},
   "outputs": [
    {
     "name": "stderr",
     "output_type": "stream",
     "text": [
      "100%|██████████| 19994/19994 [00:00<00:00, 31094.70it/s]\n"
     ]
    }
   ],
   "source": [
    "# Add new images data and save their width for further use\n",
    "\n",
    "new_images = []\n",
    "image_widths = {}\n",
    "\n",
    "for image in tqdm(instances['images']):\n",
    "    new_image = copy.deepcopy(image)\n",
    "    new_image['file_name'] = new_image['file_name'].replace('COCO_train2014_0', 'COCO_train2014_1')\n",
    "    new_image['id'] = big_const + new_image['id']\n",
    "    \n",
    "    if new_image['id'] in filtered_image_ids:\n",
    "        new_images.append(new_image)\n",
    "\n",
    "        image_widths[new_image['id']] = new_image['width']\n"
   ]
  },
  {
   "cell_type": "code",
   "execution_count": 91,
   "metadata": {},
   "outputs": [
    {
     "name": "stderr",
     "output_type": "stream",
     "text": [
      "100%|██████████| 196771/196771 [00:23<00:00, 8499.04it/s]\n"
     ]
    }
   ],
   "source": [
    "# Create new annotations (flipped bounding boxes):\n",
    "new_annotations = []\n",
    "\n",
    "for annotation in tqdm(instances['annotations']):\n",
    "    new_annotation = copy.deepcopy(annotation)\n",
    "    \n",
    "    new_annotation['id'] = big_const + new_annotation['id']\n",
    "    new_annotation['image_id'] = big_const + new_annotation['image_id']\n",
    "    \n",
    "    if new_annotation['image_id'] in new_image_ids:\n",
    "        # Flip bbox x-coord: new_x = image_width - (old_x + bbox_width):\n",
    "        new_annotation['bbox'][0] = image_widths[new_annotation['image_id']] - \\\n",
    "                                    (new_annotation['bbox'][0] + new_annotation['bbox'][2])\n",
    "\n",
    "        for seg in new_annotation['segmentation']:\n",
    "            if type(seg) == list:\n",
    "                for i, coord in enumerate(seg):\n",
    "                    if i % 2 == 0:\n",
    "                        # Flip x-coord:\n",
    "                        seg[i] = image_widths[new_annotation['image_id']] - coord\n",
    "\n",
    "        new_annotations.append(new_annotation)"
   ]
  },
  {
   "cell_type": "markdown",
   "metadata": {},
   "source": [
    "# Filter out non left-right sentences in annotations:"
   ]
  },
  {
   "cell_type": "code",
   "execution_count": null,
   "metadata": {
    "collapsed": true
   },
   "outputs": [],
   "source": []
  },
  {
   "cell_type": "code",
   "execution_count": 92,
   "metadata": {
    "collapsed": true
   },
   "outputs": [],
   "source": [
    "instances['images'].extend(new_images)\n",
    "instances['annotations'].extend(new_annotations)"
   ]
  },
  {
   "cell_type": "code",
   "execution_count": 93,
   "metadata": {
    "collapsed": true
   },
   "outputs": [],
   "source": [
    "instances['images'] = [image for image in instances['images'] if image['id'] in filtered_image_ids]"
   ]
  },
  {
   "cell_type": "code",
   "execution_count": 94,
   "metadata": {
    "collapsed": true
   },
   "outputs": [],
   "source": [
    "instances['annotations'] = [ann for ann in instances['annotations'] if ann['id'] in filtered_ann_ids]"
   ]
  },
  {
   "cell_type": "code",
   "execution_count": null,
   "metadata": {
    "collapsed": true
   },
   "outputs": [],
   "source": [
    "# Save the augmented dataset data files:"
   ]
  },
  {
   "cell_type": "code",
   "execution_count": 95,
   "metadata": {
    "collapsed": true
   },
   "outputs": [],
   "source": [
    "pickle.dump(filtered_refs, open('/root/refer/data/refcoco/refs(unc).p', 'wb'))"
   ]
  },
  {
   "cell_type": "code",
   "execution_count": 96,
   "metadata": {
    "collapsed": true
   },
   "outputs": [],
   "source": [
    "json.dump(instances, open('/root/refer/data/refcoco/instances.json', 'w'))"
   ]
  }
 ],
 "metadata": {
  "kernelspec": {
   "display_name": "Python 3",
   "language": "python",
   "name": "python3"
  },
  "language_info": {
   "codemirror_mode": {
    "name": "ipython",
    "version": 3
   },
   "file_extension": ".py",
   "mimetype": "text/x-python",
   "name": "python",
   "nbconvert_exporter": "python",
   "pygments_lexer": "ipython3",
   "version": "3.6.4"
  }
 },
 "nbformat": 4,
 "nbformat_minor": 2
}
