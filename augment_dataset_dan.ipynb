{
 "cells": [
  {
   "cell_type": "code",
   "execution_count": 1,
   "metadata": {
    "collapsed": true
   },
   "outputs": [],
   "source": [
    "import os\n",
    "from tqdm import tqdm\n",
    "\n",
    "import matplotlib.pyplot as plt\n",
    "import numpy as np\n",
    "\n",
    "import json\n",
    "import pickle\n",
    "import copy"
   ]
  },
  {
   "cell_type": "code",
   "execution_count": 2,
   "metadata": {
    "collapsed": true
   },
   "outputs": [],
   "source": [
    "images_dir = '/root/refer/data/images/mscoco/images/train2014'"
   ]
  },
  {
   "cell_type": "code",
   "execution_count": 20,
   "metadata": {},
   "outputs": [
    {
     "name": "stderr",
     "output_type": "stream",
     "text": [
      "100%|██████████| 165566/165566 [00:00<00:00, 339720.29it/s]\n"
     ]
    }
   ],
   "source": [
    "image_list = []\n",
    "flipped_image_count = 0\n",
    "\n",
    "for filename in tqdm(os.listdir(images_dir)):\n",
    "    if filename.endswith(\".jpg\"): \n",
    "        image_path = os.path.join(images_dir, filename)\n",
    "        if 'COCO_train2014_0' in image_path:\n",
    "            image_list.append(image_path)\n",
    "        elif 'COCO_train2014_1' in image_path:\n",
    "            flipped_image_count += 1"
   ]
  },
  {
   "cell_type": "code",
   "execution_count": 16,
   "metadata": {},
   "outputs": [
    {
     "name": "stderr",
     "output_type": "stream",
     "text": [
      "100%|██████████| 82783/82783 [4:29:22<00:00,  5.12it/s]  \n"
     ]
    }
   ],
   "source": [
    "# problematic_image_list = []\n",
    "\n",
    "# for image_path in tqdm(image_list):\n",
    "#     try:\n",
    "#         flipped_image_path = image_path.replace('COCO_train2014_0', 'COCO_train2014_1')\n",
    "\n",
    "#         im = plt.imread(image_path)\n",
    "\n",
    "#         plt.imsave(flipped_image_path, np.fliplr(im))\n",
    "#     except KeyboardInterrupt:\n",
    "#         raise\n",
    "#     except:\n",
    "#         problematic_image_list.append(image_path)"
   ]
  },
  {
   "cell_type": "code",
   "execution_count": 79,
   "metadata": {
    "collapsed": true
   },
   "outputs": [],
   "source": [
    "refs = pickle.load(open('/root/refer/data/refcoco_original/refs(unc).p', 'rb'))"
   ]
  },
  {
   "cell_type": "code",
   "execution_count": 80,
   "metadata": {},
   "outputs": [
    {
     "name": "stderr",
     "output_type": "stream",
     "text": [
      "100%|██████████| 50000/50000 [00:04<00:00, 10231.87it/s]\n"
     ]
    }
   ],
   "source": [
    "big_const = 100000000000\n",
    "new_image_ids = []\n",
    "\n",
    "new_refs = []\n",
    "\n",
    "for ref in tqdm(refs):\n",
    "    if ref['split'] != 'train':\n",
    "        continue\n",
    "    new_ref = copy.deepcopy(ref)\n",
    "    new_ref['sent_ids'] = [big_const + sent_id for sent_id in new_ref['sent_ids']]\n",
    "    new_ref['file_name'] = new_ref['file_name'].replace('COCO_train2014_0', 'COCO_train2014_1')\n",
    "    new_ref['ann_id'] = big_const + new_ref['ann_id']\n",
    "    new_ref['ref_id'] = big_const + new_ref['ref_id']\n",
    "    new_ref['image_id'] = big_const + new_ref['image_id']\n",
    "    for sentence in new_ref['sentences']:\n",
    "        tokens = []\n",
    "        for token in sentence['tokens']:\n",
    "            if token == 'right':\n",
    "                tokens.append('left')\n",
    "            elif token == 'left':\n",
    "                tokens.append('right')\n",
    "            elif token == 'rightmost':\n",
    "                tokens.append('leftmost')\n",
    "            elif token == 'leftmost':\n",
    "                tokens.append('rightmost')\n",
    "            else:\n",
    "                tokens.append(token)\n",
    "        sentence['tokens'] = tokens\n",
    "        sentence['raw'] = ' '.join(tokens)\n",
    "        sentence['sent'] = sentence['raw']\n",
    "        sentence['sent_id'] = big_const + sentence['sent_id']\n",
    "    \n",
    "    # Filter out non-{left/right} sentences:\n",
    "    if True:\n",
    "        for sentence in new_ref['sentences']:\n",
    "            if 'right' not in sentence['tokens'] and \\\n",
    "               'left' not in sentence['tokens'] and \\\n",
    "               'rightmost' not in sentence['tokens'] and \\\n",
    "               'leftmost' not in sentence['tokens']:\n",
    "                    new_ref['sent_ids'].remove(sentence['sent_id'])\n",
    "        if len(new_ref['sent_ids']) == 0:\n",
    "            continue\n",
    "        new_ref['sentences'] = [sentence for sentence in new_ref['sentences'] if sentence['sent_id'] in new_ref['sent_ids']]\n",
    "    #End - Filter\n",
    "    \n",
    "    new_refs.append(new_ref)\n",
    "    new_image_ids.append(new_ref['image_id'])\n",
    "new_image_ids = set(new_image_ids)"
   ]
  },
  {
   "cell_type": "code",
   "execution_count": 82,
   "metadata": {
    "collapsed": true
   },
   "outputs": [],
   "source": [
    "refs.extend(new_refs)"
   ]
  },
  {
   "cell_type": "code",
   "execution_count": 102,
   "metadata": {},
   "outputs": [
    {
     "data": {
      "text/plain": [
       "26469"
      ]
     },
     "execution_count": 102,
     "metadata": {},
     "output_type": "execute_result"
    }
   ],
   "source": [
    "len(new_refs)"
   ]
  },
  {
   "cell_type": "markdown",
   "metadata": {},
   "source": [
    "# Filter out non left-right sentences in dataset:"
   ]
  },
  {
   "cell_type": "code",
   "execution_count": 85,
   "metadata": {},
   "outputs": [
    {
     "name": "stderr",
     "output_type": "stream",
     "text": [
      "100%|██████████| 76469/76469 [00:07<00:00, 10435.65it/s]\n"
     ]
    }
   ],
   "source": [
    "filtered_image_ids = []\n",
    "\n",
    "filtered_refs = []\n",
    "\n",
    "filtered_ann_ids = []\n",
    "\n",
    "for ref in tqdm(refs):\n",
    "    new_ref = copy.deepcopy(ref)\n",
    "    # Filter out non-{left/right} sentences:\n",
    "    if True:\n",
    "        for sentence in new_ref['sentences']:\n",
    "            if 'right' not in sentence['tokens'] and \\\n",
    "               'left' not in sentence['tokens'] and \\\n",
    "               'rightmost' not in sentence['tokens'] and \\\n",
    "               'leftmost' not in sentence['tokens']:\n",
    "                    new_ref['sent_ids'].remove(sentence['sent_id'])\n",
    "        if len(new_ref['sent_ids']) == 0:\n",
    "            continue\n",
    "        new_ref['sentences'] = [sentence for sentence in new_ref['sentences'] if sentence['sent_id'] in new_ref['sent_ids']]\n",
    "    #End - Filter\n",
    "    \n",
    "    filtered_refs.append(new_ref)\n",
    "    filtered_image_ids.append(new_ref['image_id'])\n",
    "    filtered_ann_ids.append(new_ref['ann_id'])\n",
    "filtered_image_ids = set(filtered_image_ids)\n",
    "filtered_ann_ids = set(filtered_ann_ids)"
   ]
  },
  {
   "cell_type": "code",
   "execution_count": 101,
   "metadata": {},
   "outputs": [
    {
     "data": {
      "text/plain": [
       "57730"
      ]
     },
     "execution_count": 101,
     "metadata": {},
     "output_type": "execute_result"
    }
   ],
   "source": [
    "len(filtered_refs)"
   ]
  },
  {
   "cell_type": "code",
   "execution_count": 87,
   "metadata": {
    "collapsed": true
   },
   "outputs": [],
   "source": [
    "instances = json.load(open('/root/refer/data/refcoco_original/instances.json', 'r'))"
   ]
  },
  {
   "cell_type": "code",
   "execution_count": 88,
   "metadata": {},
   "outputs": [
    {
     "data": {
      "text/plain": [
       "dict_keys(['info', 'images', 'licenses', 'annotations', 'categories'])"
      ]
     },
     "execution_count": 88,
     "metadata": {},
     "output_type": "execute_result"
    }
   ],
   "source": [
    "instances.keys()"
   ]
  },
  {
   "cell_type": "code",
   "execution_count": 89,
   "metadata": {},
   "outputs": [],
   "source": [
    "#instances['annotations']"
   ]
  },
  {
   "cell_type": "code",
   "execution_count": 90,
   "metadata": {},
   "outputs": [
    {
     "name": "stderr",
     "output_type": "stream",
     "text": [
      "100%|██████████| 19994/19994 [00:00<00:00, 31094.70it/s]\n"
     ]
    }
   ],
   "source": [
    "new_images = []\n",
    "image_widths = {}\n",
    "\n",
    "for image in tqdm(instances['images']):\n",
    "    new_image = copy.deepcopy(image)\n",
    "    new_image['file_name'] = new_image['file_name'].replace('COCO_train2014_0', 'COCO_train2014_1')\n",
    "    new_image['id'] = big_const + new_image['id']\n",
    "    \n",
    "    if new_image['id'] in filtered_image_ids:\n",
    "        new_images.append(new_image)\n",
    "\n",
    "        image_widths[new_image['id']] = new_image['width']\n"
   ]
  },
  {
   "cell_type": "code",
   "execution_count": 91,
   "metadata": {},
   "outputs": [
    {
     "name": "stderr",
     "output_type": "stream",
     "text": [
      "100%|██████████| 196771/196771 [00:23<00:00, 8499.04it/s]\n"
     ]
    }
   ],
   "source": [
    "new_annotations = []\n",
    "\n",
    "for annotation in tqdm(instances['annotations']):\n",
    "    new_annotation = copy.deepcopy(annotation)\n",
    "    \n",
    "    new_annotation['id'] = big_const + new_annotation['id']\n",
    "    new_annotation['image_id'] = big_const + new_annotation['image_id']\n",
    "    \n",
    "    if new_annotation['image_id'] in new_image_ids:\n",
    "        # Flip bbox x-coord: new_x = image_width - (old_x + bbox_width):\n",
    "        new_annotation['bbox'][0] = image_widths[new_annotation['image_id']] - \\\n",
    "                                    (new_annotation['bbox'][0] + new_annotation['bbox'][2])\n",
    "\n",
    "        for seg in new_annotation['segmentation']:\n",
    "            if type(seg) == list:\n",
    "                for i, coord in enumerate(seg):\n",
    "                    if i % 2 == 0:\n",
    "                        # Flip x-coord:\n",
    "                        seg[i] = image_widths[new_annotation['image_id']] - coord\n",
    "\n",
    "        new_annotations.append(new_annotation)"
   ]
  },
  {
   "cell_type": "markdown",
   "metadata": {},
   "source": [
    "# Filter out non left-right sentences in annotations:"
   ]
  },
  {
   "cell_type": "code",
   "execution_count": null,
   "metadata": {
    "collapsed": true
   },
   "outputs": [],
   "source": []
  },
  {
   "cell_type": "code",
   "execution_count": 92,
   "metadata": {
    "collapsed": true
   },
   "outputs": [],
   "source": [
    "instances['images'].extend(new_images)\n",
    "instances['annotations'].extend(new_annotations)"
   ]
  },
  {
   "cell_type": "code",
   "execution_count": 93,
   "metadata": {},
   "outputs": [],
   "source": [
    "instances['images'] = [image for image in instances['images'] if image['id'] in filtered_image_ids]"
   ]
  },
  {
   "cell_type": "code",
   "execution_count": 94,
   "metadata": {},
   "outputs": [],
   "source": [
    "instances['annotations'] = [ann for ann in instances['annotations'] if ann['id'] in filtered_ann_ids]"
   ]
  },
  {
   "cell_type": "code",
   "execution_count": 95,
   "metadata": {
    "collapsed": true
   },
   "outputs": [],
   "source": [
    "pickle.dump(filtered_refs, open('/root/refer/data/refcoco/refs(unc).p', 'wb'))"
   ]
  },
  {
   "cell_type": "code",
   "execution_count": 96,
   "metadata": {
    "collapsed": true
   },
   "outputs": [],
   "source": [
    "json.dump(instances, open('/root/refer/data/refcoco/instances.json', 'w'))"
   ]
  },
  {
   "cell_type": "code",
   "execution_count": 97,
   "metadata": {},
   "outputs": [
    {
     "data": {
      "text/plain": [
       "57730"
      ]
     },
     "execution_count": 97,
     "metadata": {},
     "output_type": "execute_result"
    }
   ],
   "source": [
    "len(instances['annotations'])"
   ]
  },
  {
   "cell_type": "code",
   "execution_count": 26,
   "metadata": {},
   "outputs": [],
   "source": [
    "#new_annotations"
   ]
  },
  {
   "cell_type": "code",
   "execution_count": 141,
   "metadata": {},
   "outputs": [
    {
     "data": {
      "text/plain": [
       "640"
      ]
     },
     "execution_count": 141,
     "metadata": {},
     "output_type": "execute_result"
    }
   ],
   "source": [
    "image_widths[100000131074]"
   ]
  },
  {
   "cell_type": "code",
   "execution_count": null,
   "metadata": {
    "collapsed": true
   },
   "outputs": [],
   "source": []
  },
  {
   "cell_type": "code",
   "execution_count": 98,
   "metadata": {},
   "outputs": [
    {
     "data": {
      "text/plain": [
       "14052"
      ]
     },
     "execution_count": 98,
     "metadata": {},
     "output_type": "execute_result"
    }
   ],
   "source": [
    "len(new_image_ids)"
   ]
  },
  {
   "cell_type": "code",
   "execution_count": 99,
   "metadata": {},
   "outputs": [
    {
     "data": {
      "text/plain": [
       "14052"
      ]
     },
     "execution_count": 99,
     "metadata": {},
     "output_type": "execute_result"
    }
   ],
   "source": [
    "len(new_images)"
   ]
  },
  {
   "cell_type": "code",
   "execution_count": 191,
   "metadata": {},
   "outputs": [
    {
     "name": "stderr",
     "output_type": "stream",
     "text": [
      "100%|██████████| 166968/166968 [00:00<00:00, 797227.97it/s]\n",
      "100%|██████████| 42404/42404 [00:00<00:00, 434620.17it/s]\n"
     ]
    }
   ],
   "source": [
    "anns = {}\n",
    "for ann in tqdm(new_annotations):\n",
    "    anns[ann['id']] = ann\n",
    "\n",
    "for ref in tqdm(new_refs):\n",
    "    ann_id = ref['ann_id']\n",
    "\n",
    "    if type(anns[ann_id]['segmentation'][0]) != list:\n",
    "        print('gewgwegfwf')"
   ]
  },
  {
   "cell_type": "code",
   "execution_count": null,
   "metadata": {
    "collapsed": true
   },
   "outputs": [],
   "source": []
  },
  {
   "cell_type": "code",
   "execution_count": 192,
   "metadata": {
    "collapsed": true
   },
   "outputs": [],
   "source": [
    "prepro_data_json = json.load(open('../MAttNet/cache/prepro/refcoco_unc/data.json', 'r'))"
   ]
  },
  {
   "cell_type": "code",
   "execution_count": 199,
   "metadata": {},
   "outputs": [
    {
     "data": {
      "text/plain": [
       "36988"
      ]
     },
     "execution_count": 199,
     "metadata": {},
     "output_type": "execute_result"
    }
   ],
   "source": [
    "len(prepro_data_json['images'])"
   ]
  },
  {
   "cell_type": "code",
   "execution_count": null,
   "metadata": {},
   "outputs": [],
   "source": []
  },
  {
   "cell_type": "code",
   "execution_count": null,
   "metadata": {
    "collapsed": true
   },
   "outputs": [],
   "source": []
  }
 ],
 "metadata": {
  "kernelspec": {
   "display_name": "Python 3",
   "language": "python",
   "name": "python3"
  },
  "language_info": {
   "codemirror_mode": {
    "name": "ipython",
    "version": 3
   },
   "file_extension": ".py",
   "mimetype": "text/x-python",
   "name": "python",
   "nbconvert_exporter": "python",
   "pygments_lexer": "ipython3",
   "version": "3.6.2"
  }
 },
 "nbformat": 4,
 "nbformat_minor": 2
}
